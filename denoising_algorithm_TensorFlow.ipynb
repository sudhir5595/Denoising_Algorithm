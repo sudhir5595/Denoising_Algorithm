{
  "nbformat": 4,
  "nbformat_minor": 0,
  "metadata": {
    "colab": {
      "name": "denoising_algorithm_TensorFlow.ipynb",
      "provenance": [],
      "collapsed_sections": [],
      "authorship_tag": "ABX9TyO19NgcJxm1o+Npinr0sUJy",
      "include_colab_link": true
    },
    "kernelspec": {
      "name": "python3",
      "display_name": "Python 3"
    }
  },
  "cells": [
    {
      "cell_type": "markdown",
      "metadata": {
        "id": "view-in-github",
        "colab_type": "text"
      },
      "source": [
        "<a href=\"https://colab.research.google.com/github/sudhir5595/Denoising_Algorithm/blob/master/denoising_algorithm_TensorFlow.ipynb\" target=\"_parent\"><img src=\"https://colab.research.google.com/assets/colab-badge.svg\" alt=\"Open In Colab\"/></a>"
      ]
    },
    {
      "cell_type": "code",
      "metadata": {
        "id": "bzaOdySQDkbx",
        "colab_type": "code",
        "colab": {
          "base_uri": "https://localhost:8080/",
          "height": 128
        },
        "outputId": "207fdfa3-6b17-4b65-c0e3-1e830dac5bd3"
      },
      "source": [
        "from google.colab import drive\n",
        "drive.mount('/content/gdrive')\n",
        "\n",
        "folder=\"/content/gdrive/My Drive/Colab Notebooks/\""
      ],
      "execution_count": null,
      "outputs": [
        {
          "output_type": "stream",
          "text": [
            "Go to this URL in a browser: https://accounts.google.com/o/oauth2/auth?client_id=947318989803-6bn6qk8qdgf4n4g3pfee6491hc0brc4i.apps.googleusercontent.com&redirect_uri=urn%3aietf%3awg%3aoauth%3a2.0%3aoob&response_type=code&scope=email%20https%3a%2f%2fwww.googleapis.com%2fauth%2fdocs.test%20https%3a%2f%2fwww.googleapis.com%2fauth%2fdrive%20https%3a%2f%2fwww.googleapis.com%2fauth%2fdrive.photos.readonly%20https%3a%2f%2fwww.googleapis.com%2fauth%2fpeopleapi.readonly\n",
            "\n",
            "Enter your authorization code:\n",
            "··········\n",
            "Mounted at /content/gdrive\n"
          ],
          "name": "stdout"
        }
      ]
    },
    {
      "cell_type": "code",
      "metadata": {
        "id": "Yv1CDCX5EEfY",
        "colab_type": "code",
        "colab": {}
      },
      "source": [
        "import numpy as np\n",
        "import pandas as pd\n",
        "import matplotlib.pyplot as plt\n",
        "import tensorflow as tf\n",
        "# from tensorflow.keras.layers import Conv2D, Input, Dense, Reshape, Conv2DTranspose,\\\n",
        "#    Activation, BatchNormalization, ReLU, Concatenate\n",
        "# from tensorflow.keras.models import Model\n",
        "# from tensorflow.keras.callbacks import ModelCheckpoint\n",
        "# from tensorflow.keras.datasets import cifar100, cifar10"
      ],
      "execution_count": null,
      "outputs": []
    },
    {
      "cell_type": "code",
      "metadata": {
        "id": "chGSHD79EdmQ",
        "colab_type": "code",
        "colab": {
          "base_uri": "https://localhost:8080/",
          "height": 54
        },
        "outputId": "7c084208-8074-4e80-feab-f791367b708c"
      },
      "source": [
        "(train_data_clean, _), (test_data_clean, _) = tf.keras.datasets.cifar10.load_data()"
      ],
      "execution_count": null,
      "outputs": [
        {
          "output_type": "stream",
          "text": [
            "Downloading data from https://www.cs.toronto.edu/~kriz/cifar-10-python.tar.gz\n",
            "170500096/170498071 [==============================] - 2s 0us/step\n"
          ],
          "name": "stdout"
        }
      ]
    },
    {
      "cell_type": "code",
      "metadata": {
        "id": "IlCnKmu8FmLL",
        "colab_type": "code",
        "colab": {}
      },
      "source": [
        "train_data_clean = train_data_clean.astype('float32') / 255\n",
        "test_data_clean = test_data_clean.astype('float32') / 255"
      ],
      "execution_count": null,
      "outputs": []
    },
    {
      "cell_type": "code",
      "metadata": {
        "id": "ZI3g49osFudu",
        "colab_type": "code",
        "colab": {}
      },
      "source": [
        "def add_noise_and_clip_data(data):\n",
        "   noise = np.random.normal(loc=0.0, scale=0.1, size=data.shape)\n",
        "   data = data + noise\n",
        "   data = np.clip(data, 0., 1.)\n",
        "   return data"
      ],
      "execution_count": null,
      "outputs": []
    },
    {
      "cell_type": "code",
      "metadata": {
        "id": "TtJwqkuOFy4k",
        "colab_type": "code",
        "colab": {}
      },
      "source": [
        "train_data_noisy = add_noise_and_clip_data(train_data_clean)\n",
        "test_data_noisy = add_noise_and_clip_data(test_data_clean)"
      ],
      "execution_count": null,
      "outputs": []
    },
    {
      "cell_type": "code",
      "metadata": {
        "id": "vmWElB1YF4xM",
        "colab_type": "code",
        "colab": {
          "base_uri": "https://localhost:8080/",
          "height": 216
        },
        "outputId": "8c50d0d6-3822-4247-d933-5ecfdd98c94f"
      },
      "source": [
        "idx = 4\n",
        "plt.subplot(1,2,1)\n",
        "plt.imshow(train_data_clean[idx])\n",
        "plt.title('Original image')\n",
        "plt.subplot(1,2,2)\n",
        "plt.imshow(train_data_noisy[idx])\n",
        "plt.title('Image with noise')\n",
        "plt.show()"
      ],
      "execution_count": null,
      "outputs": [
        {
          "output_type": "display_data",
          "data": {
            "image/png": "[encoded data removed]",
            "text/plain": [
              "<Figure size 432x288 with 2 Axes>"
            ]
          },
          "metadata": {
            "tags": [],
            "needs_background": "light"
          }
        }
      ]
    },
    {
      "cell_type": "markdown",
      "metadata": {
        "id": "9tQtOVtsGAwY",
        "colab_type": "text"
      },
      "source": [
        "Now define the AutoEncoder Architecture"
      ]
    },
    {
      "cell_type": "code",
      "metadata": {
        "id": "kRXb7BjFGKpx",
        "colab_type": "code",
        "colab": {}
      },
      "source": [
        "def conv_block(x, filters, kernel_size, strides=2):\n",
        "   x = tf.keras.layers.Conv2D(filters=filters,kernel_size=kernel_size,strides=strides,padding='same')(x)\n",
        "   x = tf.keras.layers.BatchNormalization()(x)\n",
        "   x = tf.keras.layers.ReLU()(x)\n",
        "   return x"
      ],
      "execution_count": null,
      "outputs": []
    },
    {
      "cell_type": "code",
      "metadata": {
        "id": "ebTjT4hrGXyQ",
        "colab_type": "code",
        "colab": {}
      },
      "source": [
        "def deconv_block(x, filters, kernel_size):\n",
        "   x = tf.keras.layers.Conv2DTranspose(filters=filters,kernel_size=kernel_size,strides=2,padding='same')(x)\n",
        "   x = tf.keras.layers.BatchNormalization()(x)\n",
        "   x = tf.keras.layers.ReLU()(x)\n",
        "   return x"
      ],
      "execution_count": null,
      "outputs": []
    },
    {
      "cell_type": "code",
      "metadata": {
        "id": "1wJdEv5kGaqQ",
        "colab_type": "code",
        "colab": {}
      },
      "source": [
        "def denoising_autoencoder():\n",
        "   dae_inputs = tf.keras.layers.Input(shape=(32, 32, 3), name='dae_input')\n",
        "   conv_block1 = conv_block(dae_inputs, 32, 3)\n",
        "   conv_block2 = conv_block(conv_block1, 64, 3)\n",
        "   conv_block3 = conv_block(conv_block2, 128, 3)\n",
        "   conv_block4 = conv_block(conv_block3, 256, 3)\n",
        "   conv_block5 = conv_block(conv_block4, 256, 3, 1)\n",
        "   deconv_block1 = deconv_block(conv_block5, 256, 3)\n",
        "   merge1 = tf.keras.layers.Concatenate()([deconv_block1, conv_block3])\n",
        "   deconv_block2 = deconv_block(merge1, 128, 3)\n",
        "   merge2 = tf.keras.layers.Concatenate()([deconv_block2, conv_block2])\n",
        "   deconv_block3 = deconv_block(merge2, 64, 3)\n",
        "   merge3 = tf.keras.layers.Concatenate()([deconv_block3, conv_block1])\n",
        "   deconv_block4 = deconv_block(merge3, 32, 3)\n",
        "   final_deconv = tf.keras.layers.Conv2DTranspose(filters=3,kernel_size=3, padding='same')(deconv_block4)\n",
        "   dae_outputs = tf.keras.layers.Activation('sigmoid', name='dae_output')(final_deconv)\n",
        "  \n",
        "   return tf.keras.models.Model(dae_inputs, dae_outputs, name='dae')"
      ],
      "execution_count": null,
      "outputs": []
    },
    {
      "cell_type": "markdown",
      "metadata": {
        "id": "kR4S90l-G-bs",
        "colab_type": "text"
      },
      "source": [
        "Training of the model"
      ]
    },
    {
      "cell_type": "code",
      "metadata": {
        "id": "Cv65e79ZHBjT",
        "colab_type": "code",
        "colab": {
          "base_uri": "https://localhost:8080/",
          "height": 1000
        },
        "outputId": "530b105a-85f2-4226-caf2-59f5c6cf8af7"
      },
      "source": [
        "dae = denoising_autoencoder()\n",
        "dae.compile(loss='mse', optimizer='adam')\n",
        "checkpoint = tf.keras.callbacks.ModelCheckpoint('best_model.h5', verbose=1, save_best_only=True, save_weights_only=True)\n",
        "dae.fit(train_data_noisy,train_data_clean,validation_data=(test_data_noisy, test_data_clean),epochs=40,batch_size=128,callbacks=[checkpoint])"
      ],
      "execution_count": 31,
      "outputs": [
        {
          "output_type": "stream",
          "text": [
            "Epoch 1/40\n",
            "391/391 [==============================] - ETA: 0s - loss: 0.0047\n",
            "Epoch 00001: val_loss improved from inf to 0.00556, saving model to best_model.h5\n",
            "391/391 [==============================] - 477s 1s/step - loss: 0.0047 - val_loss: 0.0056\n",
            "Epoch 2/40\n",
            "391/391 [==============================] - ETA: 0s - loss: 0.0025\n",
            "Epoch 00002: val_loss improved from 0.00556 to 0.00217, saving model to best_model.h5\n",
            "391/391 [==============================] - 471s 1s/step - loss: 0.0025 - val_loss: 0.0022\n",
            "Epoch 3/40\n",
            "391/391 [==============================] - ETA: 0s - loss: 0.0022\n",
            "Epoch 00003: val_loss did not improve from 0.00217\n",
            "391/391 [==============================] - 473s 1s/step - loss: 0.0022 - val_loss: 0.0026\n",
            "Epoch 4/40\n",
            "391/391 [==============================] - ETA: 0s - loss: 0.0021\n",
            "Epoch 00004: val_loss did not improve from 0.00217\n",
            "391/391 [==============================] - 473s 1s/step - loss: 0.0021 - val_loss: 0.0025\n",
            "Epoch 5/40\n",
            "391/391 [==============================] - ETA: 0s - loss: 0.0021\n",
            "Epoch 00005: val_loss improved from 0.00217 to 0.00193, saving model to best_model.h5\n",
            "391/391 [==============================] - 474s 1s/step - loss: 0.0021 - val_loss: 0.0019\n",
            "Epoch 6/40\n",
            "391/391 [==============================] - ETA: 0s - loss: 0.0020\n",
            "Epoch 00006: val_loss improved from 0.00193 to 0.00190, saving model to best_model.h5\n",
            "391/391 [==============================] - 469s 1s/step - loss: 0.0020 - val_loss: 0.0019\n",
            "Epoch 7/40\n",
            "391/391 [==============================] - ETA: 0s - loss: 0.0020\n",
            "Epoch 00007: val_loss did not improve from 0.00190\n",
            "391/391 [==============================] - 472s 1s/step - loss: 0.0020 - val_loss: 0.0021\n",
            "Epoch 8/40\n",
            "391/391 [==============================] - ETA: 0s - loss: 0.0020\n",
            "Epoch 00008: val_loss improved from 0.00190 to 0.00180, saving model to best_model.h5\n",
            "391/391 [==============================] - 472s 1s/step - loss: 0.0020 - val_loss: 0.0018\n",
            "Epoch 9/40\n",
            "391/391 [==============================] - ETA: 0s - loss: 0.0019\n",
            "Epoch 00009: val_loss improved from 0.00180 to 0.00172, saving model to best_model.h5\n",
            "391/391 [==============================] - 470s 1s/step - loss: 0.0019 - val_loss: 0.0017\n",
            "Epoch 10/40\n",
            "391/391 [==============================] - ETA: 0s - loss: 0.0019\n",
            "Epoch 00010: val_loss did not improve from 0.00172\n",
            "391/391 [==============================] - 472s 1s/step - loss: 0.0019 - val_loss: 0.0018\n",
            "Epoch 11/40\n",
            "391/391 [==============================] - ETA: 0s - loss: 0.0019\n",
            "Epoch 00011: val_loss did not improve from 0.00172\n",
            "391/391 [==============================] - 472s 1s/step - loss: 0.0019 - val_loss: 0.0020\n",
            "Epoch 12/40\n",
            "391/391 [==============================] - ETA: 0s - loss: 0.0018\n",
            "Epoch 00012: val_loss improved from 0.00172 to 0.00168, saving model to best_model.h5\n",
            "391/391 [==============================] - 473s 1s/step - loss: 0.0018 - val_loss: 0.0017\n",
            "Epoch 13/40\n",
            "391/391 [==============================] - ETA: 0s - loss: 0.0018\n",
            "Epoch 00013: val_loss did not improve from 0.00168\n",
            "391/391 [==============================] - 474s 1s/step - loss: 0.0018 - val_loss: 0.0017\n",
            "Epoch 14/40\n",
            "391/391 [==============================] - ETA: 0s - loss: 0.0018\n",
            "Epoch 00014: val_loss did not improve from 0.00168\n",
            "391/391 [==============================] - 473s 1s/step - loss: 0.0018 - val_loss: 0.0018\n",
            "Epoch 15/40\n",
            "391/391 [==============================] - ETA: 0s - loss: 0.0017\n",
            "Epoch 00015: val_loss improved from 0.00168 to 0.00162, saving model to best_model.h5\n",
            "391/391 [==============================] - 471s 1s/step - loss: 0.0017 - val_loss: 0.0016\n",
            "Epoch 16/40\n",
            "391/391 [==============================] - ETA: 0s - loss: 0.0017\n",
            "Epoch 00016: val_loss did not improve from 0.00162\n",
            "391/391 [==============================] - 468s 1s/step - loss: 0.0017 - val_loss: 0.0017\n",
            "Epoch 17/40\n",
            "391/391 [==============================] - ETA: 0s - loss: 0.0017\n",
            "Epoch 00017: val_loss did not improve from 0.00162\n",
            "391/391 [==============================] - 467s 1s/step - loss: 0.0017 - val_loss: 0.0016\n",
            "Epoch 18/40\n",
            "391/391 [==============================] - ETA: 0s - loss: 0.0017\n",
            "Epoch 00018: val_loss did not improve from 0.00162\n",
            "391/391 [==============================] - 470s 1s/step - loss: 0.0017 - val_loss: 0.0017\n",
            "Epoch 19/40\n",
            "391/391 [==============================] - ETA: 0s - loss: 0.0017\n",
            "Epoch 00019: val_loss did not improve from 0.00162\n",
            "391/391 [==============================] - 470s 1s/step - loss: 0.0017 - val_loss: 0.0016\n",
            "Epoch 20/40\n",
            "391/391 [==============================] - ETA: 0s - loss: 0.0017\n",
            "Epoch 00020: val_loss did not improve from 0.00162\n",
            "391/391 [==============================] - 470s 1s/step - loss: 0.0017 - val_loss: 0.0017\n",
            "Epoch 21/40\n",
            "391/391 [==============================] - ETA: 0s - loss: 0.0016\n",
            "Epoch 00021: val_loss improved from 0.00162 to 0.00157, saving model to best_model.h5\n",
            "391/391 [==============================] - 470s 1s/step - loss: 0.0016 - val_loss: 0.0016\n",
            "Epoch 22/40\n",
            "391/391 [==============================] - ETA: 0s - loss: 0.0016\n",
            "Epoch 00022: val_loss did not improve from 0.00157\n",
            "391/391 [==============================] - 468s 1s/step - loss: 0.0016 - val_loss: 0.0016\n",
            "Epoch 23/40\n",
            "391/391 [==============================] - ETA: 0s - loss: 0.0016\n",
            "Epoch 00023: val_loss did not improve from 0.00157\n",
            "391/391 [==============================] - 468s 1s/step - loss: 0.0016 - val_loss: 0.0016\n",
            "Epoch 24/40\n",
            "391/391 [==============================] - ETA: 0s - loss: 0.0016\n",
            "Epoch 00024: val_loss did not improve from 0.00157\n",
            "391/391 [==============================] - 470s 1s/step - loss: 0.0016 - val_loss: 0.0016\n",
            "Epoch 25/40\n",
            "391/391 [==============================] - ETA: 0s - loss: 0.0016\n",
            "Epoch 00025: val_loss improved from 0.00157 to 0.00156, saving model to best_model.h5\n",
            "391/391 [==============================] - 470s 1s/step - loss: 0.0016 - val_loss: 0.0016\n",
            "Epoch 26/40\n",
            "391/391 [==============================] - ETA: 0s - loss: 0.0016\n",
            "Epoch 00026: val_loss improved from 0.00156 to 0.00155, saving model to best_model.h5\n",
            "391/391 [==============================] - 476s 1s/step - loss: 0.0016 - val_loss: 0.0015\n",
            "Epoch 27/40\n",
            "391/391 [==============================] - ETA: 0s - loss: 0.0016\n",
            "Epoch 00027: val_loss did not improve from 0.00155\n",
            "391/391 [==============================] - 480s 1s/step - loss: 0.0016 - val_loss: 0.0016\n",
            "Epoch 28/40\n",
            "391/391 [==============================] - ETA: 0s - loss: 0.0016\n",
            "Epoch 00028: val_loss did not improve from 0.00155\n",
            "391/391 [==============================] - 481s 1s/step - loss: 0.0016 - val_loss: 0.0016\n",
            "Epoch 29/40\n",
            "391/391 [==============================] - ETA: 0s - loss: 0.0016\n",
            "Epoch 00029: val_loss did not improve from 0.00155\n",
            "391/391 [==============================] - 479s 1s/step - loss: 0.0016 - val_loss: 0.0016\n",
            "Epoch 30/40\n",
            "391/391 [==============================] - ETA: 0s - loss: 0.0016\n",
            "Epoch 00030: val_loss did not improve from 0.00155\n",
            "391/391 [==============================] - 486s 1s/step - loss: 0.0016 - val_loss: 0.0016\n",
            "Epoch 31/40\n",
            "391/391 [==============================] - ETA: 0s - loss: 0.0016\n",
            "Epoch 00031: val_loss did not improve from 0.00155\n",
            "391/391 [==============================] - 491s 1s/step - loss: 0.0016 - val_loss: 0.0016\n",
            "Epoch 32/40\n",
            "391/391 [==============================] - ETA: 0s - loss: 0.0015\n",
            "Epoch 00032: val_loss improved from 0.00155 to 0.00153, saving model to best_model.h5\n",
            "391/391 [==============================] - 486s 1s/step - loss: 0.0015 - val_loss: 0.0015\n",
            "Epoch 33/40\n",
            "391/391 [==============================] - ETA: 0s - loss: 0.0015\n",
            "Epoch 00033: val_loss did not improve from 0.00153\n",
            "391/391 [==============================] - 486s 1s/step - loss: 0.0015 - val_loss: 0.0016\n",
            "Epoch 34/40\n",
            "391/391 [==============================] - ETA: 0s - loss: 0.0015\n",
            "Epoch 00034: val_loss did not improve from 0.00153\n",
            "391/391 [==============================] - 483s 1s/step - loss: 0.0015 - val_loss: 0.0015\n",
            "Epoch 35/40\n",
            "391/391 [==============================] - ETA: 0s - loss: 0.0015\n",
            "Epoch 00035: val_loss did not improve from 0.00153\n",
            "391/391 [==============================] - 485s 1s/step - loss: 0.0015 - val_loss: 0.0015\n",
            "Epoch 36/40\n",
            "391/391 [==============================] - ETA: 0s - loss: 0.0015\n",
            "Epoch 00036: val_loss did not improve from 0.00153\n",
            "391/391 [==============================] - 484s 1s/step - loss: 0.0015 - val_loss: 0.0016\n",
            "Epoch 37/40\n",
            "391/391 [==============================] - ETA: 0s - loss: 0.0015\n",
            "Epoch 00037: val_loss did not improve from 0.00153\n",
            "391/391 [==============================] - 481s 1s/step - loss: 0.0015 - val_loss: 0.0016\n",
            "Epoch 38/40\n",
            "391/391 [==============================] - ETA: 0s - loss: 0.0015\n",
            "Epoch 00038: val_loss did not improve from 0.00153\n",
            "391/391 [==============================] - 478s 1s/step - loss: 0.0015 - val_loss: 0.0015\n",
            "Epoch 39/40\n",
            "391/391 [==============================] - ETA: 0s - loss: 0.0015\n",
            "Epoch 00039: val_loss improved from 0.00153 to 0.00153, saving model to best_model.h5\n",
            "391/391 [==============================] - 481s 1s/step - loss: 0.0015 - val_loss: 0.0015\n",
            "Epoch 40/40\n",
            "391/391 [==============================] - ETA: 0s - loss: 0.0015\n",
            "Epoch 00040: val_loss improved from 0.00153 to 0.00152, saving model to best_model.h5\n",
            "391/391 [==============================] - 480s 1s/step - loss: 0.0015 - val_loss: 0.0015\n"
          ],
          "name": "stdout"
        },
        {
          "output_type": "execute_result",
          "data": {
            "text/plain": [
              "<tensorflow.python.keras.callbacks.History at 0x7f507b330c50>"
            ]
          },
          "metadata": {
            "tags": []
          },
          "execution_count": 31
        }
      ]
    },
    {
      "cell_type": "markdown",
      "metadata": {
        "id": "ovUKp4wnR_Ke",
        "colab_type": "text"
      },
      "source": [
        "Result"
      ]
    },
    {
      "cell_type": "code",
      "metadata": {
        "id": "U4sO6fgIRjAf",
        "colab_type": "code",
        "colab": {
          "base_uri": "https://localhost:8080/",
          "height": 162
        },
        "outputId": "149276db-a6e1-4823-8106-a8a99d37380f"
      },
      "source": [
        "dae.load_weights('best_model.h5')\n",
        "test_data_denoised = dae.predict(test_data_noisy)\n",
        "idx = 4\n",
        "plt.subplot(1,3,1)\n",
        "plt.imshow(test_data_clean[idx])\n",
        "plt.title('original')\n",
        "plt.subplot(1,3,2)\n",
        "plt.imshow(test_data_noisy[idx])\n",
        "plt.title('noisy')\n",
        "plt.subplot(1,3,3)\n",
        "plt.imshow(test_data_denoised[idx])\n",
        "plt.title('denoised')\n",
        "plt.show()"
      ],
      "execution_count": 32,
      "outputs": [
        {
          "output_type": "display_data",
          "data": {
            "image/png": "[encoded data removed]",
            "text/plain": [
              "<Figure size 432x288 with 3 Axes>"
            ]
          },
          "metadata": {
            "tags": [],
            "needs_background": "light"
          }
        }
      ]
    },
    {
      "cell_type": "code",
      "metadata": {
        "id": "jFhTnp9aSIl5",
        "colab_type": "code",
        "colab": {
          "base_uri": "https://localhost:8080/",
          "height": 35
        },
        "outputId": "24f18a88-ce8a-424a-c0ba-c99dd112e8b9"
      },
      "source": [
        "def mse(data_1, data_2):\n",
        "   return np.square(np.subtract(data_1, data_2)).mean()\n",
        "noisy_clean_mse = mse(test_data_clean, test_data_noisy)\n",
        "denoised_clean_mse = mse(test_data_denoised, test_data_clean)\n",
        "\n",
        "noisy_clean_mse, denoised_clean_mse"
      ],
      "execution_count": 34,
      "outputs": [
        {
          "output_type": "execute_result",
          "data": {
            "text/plain": [
              "(0.009304722923965933, 0.0015200599)"
            ]
          },
          "metadata": {
            "tags": []
          },
          "execution_count": 34
        }
      ]
    }
  ]
}